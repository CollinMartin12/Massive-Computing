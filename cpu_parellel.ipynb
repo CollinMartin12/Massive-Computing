{
  "cells": [
    {
      "cell_type": "markdown",
      "metadata": {
        "id": "RgiFzR-TVFrA"
      },
      "source": [
        "# First Practical work\n",
        "\n",
        "* Name Student 1:\n",
        "* NIA Student 1:\n",
        "* Name Student 2:\n",
        "* NIA Student 2:\n",
        "  \n",
        "This is second practical work skeleton.\n",
        "\n",
        "It is divided in 3 parts_\n",
        "\n",
        "1.   Python module load section: load all the needed modules\n",
        "2.   Google Drive access and mounting\n",
        "3.   Host load data\n",
        "\n",
        "\n",
        "\n",
        "\n"
      ]
    },
    {
      "cell_type": "markdown",
      "metadata": {
        "id": "tfmxFIzPWszg"
      },
      "source": [
        "## Module load section\n",
        "We will install the pycuda module in the colaboratory environment, to combine python and CUDA in our code. Because pycuda is not available by default, this task can take a few minutes.\n",
        "\n",
        "As well we load numpy and matplotlib modules."
      ]
    },
    {
      "cell_type": "code",
      "execution_count": 1,
      "metadata": {
        "colab": {
          "base_uri": "https://localhost:8080/"
        },
        "id": "Y4ODxXijQNl9",
        "outputId": "dd344a45-1101-4266-9d97-c1c84fe899f9"
      },
      "outputs": [
        {
          "name": "stdout",
          "output_type": "stream",
          "text": [
            "Requirement already satisfied: nibabel in /opt/miniconda3/lib/python3.13/site-packages (5.3.2)\n",
            "Requirement already satisfied: numpy>=1.22 in /opt/miniconda3/lib/python3.13/site-packages (from nibabel) (2.3.3)\n",
            "Requirement already satisfied: packaging>=20 in /opt/miniconda3/lib/python3.13/site-packages (from nibabel) (25.0)\n"
          ]
        }
      ],
      "source": [
        "!pip install nibabel"
      ]
    },
    {
      "cell_type": "markdown",
      "metadata": {
        "id": "hl4AhbSbW19W"
      },
      "source": [
        "We import the Python modules which we will use in the notebook (numpy, pycuda and time module)"
      ]
    },
    {
      "cell_type": "code",
      "execution_count": 2,
      "metadata": {
        "id": "TLEg2Y41HFB3"
      },
      "outputs": [],
      "source": [
        "import  numpy  as  np\n",
        "from sys import getsizeof\n",
        "import time\n",
        "from os.path import join"
      ]
    },
    {
      "cell_type": "code",
      "execution_count": 3,
      "metadata": {
        "id": "JfOtyml91WNb"
      },
      "outputs": [],
      "source": [
        "%matplotlib inline\n",
        "from PIL import Image\n",
        "import matplotlib.pyplot as plt\n",
        "import matplotlib.image as mpimg\n",
        "import cProfile"
      ]
    },
    {
      "cell_type": "code",
      "execution_count": 4,
      "metadata": {
        "id": "XabDdg_0QNl-"
      },
      "outputs": [],
      "source": [
        "import nibabel as nib"
      ]
    },
    {
      "cell_type": "code",
      "execution_count": 5,
      "metadata": {
        "id": "B5V6QmB8QNl-"
      },
      "outputs": [],
      "source": [
        "# import your_library here"
      ]
    },
    {
      "cell_type": "markdown",
      "metadata": {
        "id": "fsHGmknLQNl-"
      },
      "source": [
        "# Three-dimensional filtering\n",
        "\n",
        "The objective of the practice is to implement a three-dimensional filtering of information (usually a 3-dimensional image coming from, for example, medical images) to which a preprocessing must be performed for further analysis.\n",
        "\n",
        "Due to technical limitations, we will assume that the filtering function is a cube of 3x3 voxels (or three-dimensional pixel) and the image will have a maximum size of 1Gbyte (1024x1024x1024), although it will not necessarily be cubic.\n",
        "\n",
        "## How to filter a voxel?\n",
        "To filter a voxel we select the coordinates of the voxel we want to filter and the surrounding neighbors in the 3 dimensions (for a 3x3 filter the coefficient corresponding to the voxel to be filtered corresponds to the positions (1,1,1) of the filter mask).\n",
        "The n selected neighbors are multiplied by the corresponding coefficients in the filter mask, around the selected voxel, and the products are summed, as in the case of 2-dimensional filters.\n",
        "\n",
        "The result of this sum is the value assigned to the selected position of the resulting voxel.\n",
        "\n",
        "## Cases at the edges\n",
        "To calculate the filtered voxel at a position corresponding to one of the edges of the image, we replicate that layer, so that the data of the missing layer is equal to that of the layer to be filtered.\n",
        "In the case of edges or corners, the value of the corresponding corner is replicated.\n",
        "\n",
        "## Clapping\n",
        "The resulting data will be an floating point 32bits data."
      ]
    },
    {
      "cell_type": "markdown",
      "metadata": {
        "id": "CHsvF9qH2G_u"
      },
      "source": [
        "## Mount Google Drive and access grant\n",
        "This part could be used to access to your Google Drive Data, **ONLY IF YOU ARE USING GOOGLE COLABORATORY**. Otherwise leave commented out.\n",
        "\n",
        "For security and privacy reasons, this permission is temporally, and will be requested every time you restart the notebook.\n",
        "\n",
        "Your Google Drive will be mounted in the \"/content/drive\" folder. The first Folder will be \"My Drive\".\n",
        "\n",
        "You have to copy your images to a folder in the \"My Drive\" folder in your Google Drive.\n",
        "\n",
        "To check your available files, use the cell indicated as \"**List Files in Folder**\""
      ]
    },
    {
      "cell_type": "code",
      "execution_count": 6,
      "metadata": {
        "id": "ykYa7-u8zDzk"
      },
      "outputs": [],
      "source": [
        "#\n",
        "# from google.colab import drive\n",
        "# drive.mount(\"/content/drive\")"
      ]
    },
    {
      "cell_type": "code",
      "execution_count": 7,
      "metadata": {
        "id": "rXjMDTFZQNl_"
      },
      "outputs": [],
      "source": [
        "# !ls /content/drive/My\\ Drive/images"
      ]
    },
    {
      "cell_type": "code",
      "execution_count": null,
      "metadata": {
        "id": "RN-zy4mQzN-J"
      },
      "outputs": [],
      "source": []
    },
    {
      "cell_type": "markdown",
      "metadata": {
        "id": "ZtdarelZfv7Y"
      },
      "source": [
        "## IMAGES DEFINITION"
      ]
    },
    {
      "cell_type": "markdown",
      "metadata": {
        "id": "0B6oRMdSQNl_"
      },
      "source": [
        "The follow MYDRIVE variable will be used to address where are stored the images files.\n",
        "\n",
        "Please, change it to your correct location.\n",
        "\n",
        "All the images should be refered to this directory."
      ]
    },
    {
      "cell_type": "code",
      "execution_count": 8,
      "metadata": {
        "id": "IEkj24AFzdqw"
      },
      "outputs": [],
      "source": [
        "MYDRIVE=\"./\""
      ]
    },
    {
      "cell_type": "markdown",
      "metadata": {
        "id": "hQ9NrNYXf1Rg"
      },
      "source": [
        "We define a variable IMAGE which is constructed joining the \"MYDRIVE\" varible plus the final path to your image."
      ]
    },
    {
      "cell_type": "code",
      "execution_count": 9,
      "metadata": {
        "id": "2TAhlCjS0YPw"
      },
      "outputs": [],
      "source": [
        "#IMAGE=join(MYDRIVE,HERE YOU HAVE TO WRITE THE IMAGE TO LOAD)"
      ]
    },
    {
      "cell_type": "code",
      "execution_count": 10,
      "metadata": {
        "id": "2JVQEmulQNl_"
      },
      "outputs": [],
      "source": [
        "IMAGE=join(MYDRIVE,'someones_epi.nii.gz')"
      ]
    },
    {
      "cell_type": "code",
      "execution_count": 11,
      "metadata": {
        "colab": {
          "base_uri": "https://localhost:8080/"
        },
        "id": "xVa1h0wr0fDJ",
        "outputId": "bcf01044-2757-4202-8020-5af6bf0af5d1"
      },
      "outputs": [
        {
          "name": "stdout",
          "output_type": "stream",
          "text": [
            "Image to load: ./someones_epi.nii.gz\n"
          ]
        }
      ],
      "source": [
        "print(\"Image to load: {0}\".format(IMAGE))"
      ]
    },
    {
      "cell_type": "markdown",
      "metadata": {
        "id": "otUSnNLOgilw"
      },
      "source": [
        "Loads an image in a numpy variable, and show."
      ]
    },
    {
      "cell_type": "code",
      "execution_count": 12,
      "metadata": {
        "colab": {
          "base_uri": "https://localhost:8080/"
        },
        "id": "K5MbuRm_1hdQ",
        "outputId": "43336748-1abf-4dc1-9871-e15225a71c82"
      },
      "outputs": [
        {
          "data": {
            "text/plain": [
              "(53, 61, 33)"
            ]
          },
          "execution_count": 12,
          "metadata": {},
          "output_type": "execute_result"
        }
      ],
      "source": [
        "epi_img = nib.load(IMAGE)\n",
        "epi_img_data = epi_img.get_fdata().astype(np.float32)\n",
        "epi_img_data.shape"
      ]
    },
    {
      "cell_type": "code",
      "execution_count": 13,
      "metadata": {
        "id": "rg-Ku8lwQNl_"
      },
      "outputs": [],
      "source": [
        "epi_img_data_final = epi_img_data.T"
      ]
    },
    {
      "cell_type": "code",
      "execution_count": 14,
      "metadata": {
        "colab": {
          "base_uri": "https://localhost:8080/"
        },
        "id": "wjYCjSUTQNl_",
        "outputId": "633f8f9c-8dc6-4e3f-89ca-ca3d5573bf92"
      },
      "outputs": [
        {
          "data": {
            "text/plain": [
              "(33, 61, 53)"
            ]
          },
          "execution_count": 14,
          "metadata": {},
          "output_type": "execute_result"
        }
      ],
      "source": [
        "epi_img_data_final.shape"
      ]
    },
    {
      "cell_type": "code",
      "execution_count": 15,
      "metadata": {
        "colab": {
          "base_uri": "https://localhost:8080/"
        },
        "id": "GAm1MxYHQNmA",
        "outputId": "7d18d59e-c7cf-4e8a-89e3-78179b80f2bd"
      },
      "outputs": [
        {
          "data": {
            "text/plain": [
              "dtype('float32')"
            ]
          },
          "execution_count": 15,
          "metadata": {},
          "output_type": "execute_result"
        }
      ],
      "source": [
        "epi_img_data.dtype"
      ]
    },
    {
      "cell_type": "code",
      "execution_count": 16,
      "metadata": {
        "colab": {
          "base_uri": "https://localhost:8080/",
          "height": 378
        },
        "id": "QwJWB4hvQNmA",
        "outputId": "9c736886-884f-447f-a677-21c4af27d9b0"
      },
      "outputs": [
        {
          "data": {
            "image/png": "[encoded data removed]",
            "text/plain": [
              "<Figure size 640x480 with 3 Axes>"
            ]
          },
          "metadata": {},
          "output_type": "display_data"
        }
      ],
      "source": [
        "import matplotlib.pyplot as plt\n",
        "\n",
        "def show_slices(slices):\n",
        "    \"\"\" Function to display row of image slices \"\"\"\n",
        "    fig, axes = plt.subplots(1, len(slices))\n",
        "    if len(slices) == 1:\n",
        "        axes = [axes]  # Make axes iterable\n",
        "    for i, slice in enumerate(slices):\n",
        "        axes[i].imshow(slice, cmap=\"gray\", origin=\"lower\")\n",
        "        axes[i].axis('off')  # Hide axis for better display\n",
        "    plt.tight_layout()\n",
        "    return fig, axes\n",
        "\n",
        "slice_0 = epi_img_data_final[26, :, :]\n",
        "slice_1 = epi_img_data_final[:, 30, :]\n",
        "slice_2 = epi_img_data_final[:, :, 16]\n",
        "\n",
        "fig, axes = show_slices([slice_0, slice_1, slice_2])\n",
        "fig.suptitle(\"Center slices for EPI image\")\n",
        "plt.show()"
      ]
    },
    {
      "cell_type": "markdown",
      "metadata": {
        "id": "XRSIytmkQNmA"
      },
      "source": [
        "## FILTERS DEFINITION"
      ]
    },
    {
      "cell_type": "markdown",
      "metadata": {
        "id": "fV8ZVagpiI97"
      },
      "source": [
        "Here we defines our sample filter masks."
      ]
    },
    {
      "cell_type": "code",
      "execution_count": 17,
      "metadata": {
        "id": "eWzJi8niPpuQ"
      },
      "outputs": [],
      "source": [
        "#This is an identity filter: the resulting\n",
        "filter1=np.zeros((3,3,3),dtype=np.float32)\n",
        "filter1[1,1,1] =1.0"
      ]
    },
    {
      "cell_type": "code",
      "execution_count": 18,
      "metadata": {
        "id": "oSFCnNOGQNmA"
      },
      "outputs": [],
      "source": [
        "#This is an edge detector filter in xy axis filter: the resulting\n",
        "filter2=np.zeros((3,3,3),dtype=np.float32)\n",
        "filter2[0,0,1] = -0.25\n",
        "filter2[2,0,1] = -0.25\n",
        "filter2[0,2,1] = 0.25\n",
        "filter2[2,2,1] = 0.25"
      ]
    },
    {
      "cell_type": "code",
      "execution_count": 19,
      "metadata": {
        "id": "1dVe439-QNmA"
      },
      "outputs": [],
      "source": [
        "#This is an edge detector filter in xz axis: the resulting\n",
        "filter3=np.zeros((3,3,3),dtype=np.float32)\n",
        "filter3[0,1,0] = -0.25\n",
        "filter3[2,1,0] = -0.25\n",
        "filter3[0,1,2] = 0.25\n",
        "filter3[2,1,2] = 0.25"
      ]
    },
    {
      "cell_type": "markdown",
      "metadata": {
        "id": "ciu_QKexQNmA"
      },
      "source": [
        "# YOUR CODE"
      ]
    },
    {
      "cell_type": "code",
      "execution_count": 20,
      "metadata": {
        "id": "OXTVYglBQNmA"
      },
      "outputs": [],
      "source": [
        "import multiprocessing as mp\n",
        "from multiprocessing import Pool\n",
        "from multiprocessing import shared_memory\n",
        "from functools import partial\n",
        "\n",
        "# Set start method to 'fork' for macOS compatibility\n",
        "try:\n",
        "    mp.set_start_method('fork', force=True)\n",
        "except RuntimeError:\n",
        "    pass  # Already set\n"
      ]
    },
    {
      "cell_type": "markdown",
      "metadata": {
        "id": "N8y0LIU2hOd0"
      },
      "source": [
        "## SETUP EXPERIMENT"
      ]
    },
    {
      "cell_type": "markdown",
      "metadata": {
        "id": "N6NmxsN7X-02"
      },
      "source": [
        "Recover the image shape, and select the two first items (rows and columns)."
      ]
    },
    {
      "cell_type": "code",
      "execution_count": 21,
      "metadata": {
        "id": "-9aWxHFFHxzT"
      },
      "outputs": [],
      "source": [
        "image_shape=epi_img_data_final.shape"
      ]
    },
    {
      "cell_type": "code",
      "execution_count": 22,
      "metadata": {
        "id": "3eqAneiDQNmA"
      },
      "outputs": [],
      "source": [
        "def get_voxel_with_boundary(image, x, y, z, shape):\n",
        "    \"\"\"\n",
        "    Get voxel value with proper boundary condition handling.\n",
        "    Replicates edge/corner values as per assignment requirements.\n",
        "\n",
        "    Parameters:\n",
        "    - image: 3D numpy array\n",
        "    - x, y, z: coordinates (can be out of bounds)\n",
        "    - shape: tuple with image dimensions (depth, height, width)\n",
        "\n",
        "    Returns:\n",
        "    - voxel value with boundary replication\n",
        "    \"\"\"\n",
        "    depth, height, width = shape\n",
        "\n",
        "    # Clamp coordinates to valid range (replicates boundary values)\n",
        "    x_clamped = max(0, min(width - 1, x))\n",
        "    y_clamped = max(0, min(height - 1, y))\n",
        "    z_clamped = max(0, min(depth - 1, z))\n",
        "\n",
        "    return image[z_clamped, y_clamped, x_clamped]\n",
        "\n",
        "\n",
        "def apply_3d_filter_at_position(image, filter_mask, x, y, z, shape):\n",
        "    \"\"\"\n",
        "    Apply 3x3x3 filter at a specific position with correct index mapping.\n",
        "\n",
        "    This implementation follows the fix from MC_Session_5.pdf:\n",
        "    - Maps offsets (-1, 0, 1) directly to filter indices (0, 1, 2)\n",
        "    - Uses c_f = h + 1 and r_f = v + 1 instead of incrementing\n",
        "\n",
        "    Parameters:\n",
        "    - image: 3D numpy array\n",
        "    - filter_mask: 3x3x3 filter\n",
        "    - x, y, z: position to filter\n",
        "    - shape: image dimensions\n",
        "\n",
        "    Returns:\n",
        "    - filtered value\n",
        "    \"\"\"\n",
        "    total = 0.0\n",
        "\n",
        "    # Loop over 3x3x3 neighborhood\n",
        "    for dz in [-1, 0, 1]:  # depth offset\n",
        "        z_neighbor = z + dz\n",
        "        z_f = dz + 1  # filter index: maps -1→0, 0→1, 1→2\n",
        "\n",
        "        for dy in [-1, 0, 1]:  # height offset\n",
        "            y_neighbor = y + dy\n",
        "            y_f = dy + 1  # filter index\n",
        "\n",
        "            for dx in [-1, 0, 1]:  # width offset\n",
        "                x_neighbor = x + dx\n",
        "                x_f = dx + 1  # filter index\n",
        "\n",
        "                # Get voxel value with boundary handling\n",
        "                voxel_value = get_voxel_with_boundary(image, x_neighbor, y_neighbor, z_neighbor, shape)\n",
        "\n",
        "                # Apply filter coefficient\n",
        "                total += voxel_value * filter_mask[z_f, y_f, x_f]\n",
        "\n",
        "    return total"
      ]
    },
    {
      "cell_type": "code",
      "execution_count": 23,
      "metadata": {
        "id": "VdWq3TcjQNmB"
      },
      "outputs": [],
      "source": [
        "def process_z_layer(z, shm_name, image_shape, filter_mask, input_image):\n",
        "    \"\"\"\n",
        "    Process a single Z layer (parallelized along Z axis as suggested).\n",
        "    This function will be called by each parallel process.\n",
        "\n",
        "    Parameters:\n",
        "    - z: Z coordinate of the layer to process\n",
        "    - shm_name: Name of the shared memory block\n",
        "    - image_shape: Shape of the image\n",
        "    - filter_mask: 3x3x3 filter to apply\n",
        "    - input_image: The input image array\n",
        "    \"\"\"\n",
        "    # Access shared memory\n",
        "    existing_shm = shared_memory.SharedMemory(name=shm_name)\n",
        "    output_array = np.ndarray(image_shape, dtype=np.float32, buffer=existing_shm.buf)\n",
        "\n",
        "    depth, height, width = image_shape\n",
        "\n",
        "    # Process all voxels in this Z layer sequentially\n",
        "    for y in range(height):\n",
        "        for x in range(width):\n",
        "            # Apply filter at this position\n",
        "            filtered_value = apply_3d_filter_at_position(\n",
        "                input_image, filter_mask, x, y, z, image_shape\n",
        "            )\n",
        "            # Store result in shared memory\n",
        "            output_array[z, y, x] = filtered_value\n",
        "\n",
        "    # Close shared memory access (don't unlink, that's done by main process)\n",
        "    existing_shm.close()\n",
        "\n",
        "\n",
        "def parallel_3d_filter(input_image, filter_mask, num_processes=None):\n",
        "    \"\"\"\n",
        "    Apply 3D filter in parallel using multiprocessing.\n",
        "    Parallelizes along Z axis as suggested in the assignment.\n",
        "\n",
        "    Parameters:\n",
        "    - input_image: 3D numpy array to filter\n",
        "    - filter_mask: 3x3x3 filter\n",
        "    - num_processes: Number of parallel processes (default: CPU count)\n",
        "\n",
        "    Returns:\n",
        "    - filtered_image: 3D numpy array with filtered result\n",
        "    \"\"\"\n",
        "    if num_processes is None:\n",
        "        num_processes = mp.cpu_count()\n",
        "\n",
        "    image_shape = input_image.shape\n",
        "    depth, height, width = image_shape\n",
        "\n",
        "    # Create shared memory for output\n",
        "    shm = shared_memory.SharedMemory(create=True, size=input_image.nbytes)\n",
        "    filtered_image_shm = np.ndarray(image_shape, dtype=np.float32, buffer=shm.buf)\n",
        "\n",
        "    # Initialize with zeros\n",
        "    filtered_image_shm[:] = 0\n",
        "\n",
        "    print(f\"Starting parallel filtering with {num_processes} processes...\")\n",
        "    print(f\"Processing {depth} Z layers in parallel...\")\n",
        "\n",
        "    # Create pool of workers\n",
        "    with Pool(processes=num_processes) as pool:\n",
        "        # Create partial function with fixed parameters\n",
        "        process_func = partial(\n",
        "            process_z_layer,\n",
        "            shm_name=shm.name,\n",
        "            image_shape=image_shape,\n",
        "            filter_mask=filter_mask,\n",
        "            input_image=input_image\n",
        "        )\n",
        "\n",
        "        # Map each Z layer to a process\n",
        "        pool.map(process_func, range(depth))\n",
        "\n",
        "    # Copy result from shared memory\n",
        "    result = filtered_image_shm.copy()\n",
        "\n",
        "    # Cleanup\n",
        "    shm.close()\n",
        "    shm.unlink()\n",
        "\n",
        "    return result"
      ]
    },
    {
      "cell_type": "code",
      "execution_count": 24,
      "metadata": {
        "id": "waoT2WemQNmB"
      },
      "outputs": [],
      "source": [
        "def sequential_3d_filter(input_image, filter_mask):\n",
        "    \"\"\"\n",
        "    Sequential (non-parallel) implementation for comparison.\n",
        "    \"\"\"\n",
        "    image_shape = input_image.shape\n",
        "    depth, height, width = image_shape\n",
        "\n",
        "    filtered_image = np.zeros(image_shape, dtype=np.float32)\n",
        "\n",
        "    for z in range(depth):\n",
        "        for y in range(height):\n",
        "            for x in range(width):\n",
        "                filtered_value = apply_3d_filter_at_position(\n",
        "                    input_image, filter_mask, x, y, z, image_shape\n",
        "                )\n",
        "                filtered_image[z, y, x] = filtered_value\n",
        "\n",
        "    return filtered_image"
      ]
    },
    {
      "cell_type": "code",
      "execution_count": 25,
      "metadata": {
        "colab": {
          "base_uri": "https://localhost:8080/"
        },
        "id": "g9tOCSOaQNmF",
        "outputId": "aa821396-e410-463b-943d-6158086c44a2"
      },
      "outputs": [
        {
          "name": "stdout",
          "output_type": "stream",
          "text": [
            "Testing with identity filter (filter1)...\n",
            "Starting parallel filtering with 10 processes...\n",
            "Processing 33 Z layers in parallel...\n",
            "Parallel execution time: 0.1930 seconds\n"
          ]
        }
      ],
      "source": [
        "if __name__ == '__main__':\n",
        "    # Test with identity filter first\n",
        "    print(\"Testing with identity filter (filter1)...\")\n",
        "    start_time = time.time()\n",
        "    filtered_image = parallel_3d_filter(epi_img_data_final, filter1)\n",
        "    end_time = time.time()\n",
        "\n",
        "    parallel_time = end_time - start_time\n",
        "    print(f\"Parallel execution time: {parallel_time:.4f} seconds\")"
      ]
    },
    {
      "cell_type": "code",
      "execution_count": 26,
      "metadata": {
        "colab": {
          "base_uri": "https://localhost:8080/"
        },
        "id": "M7B5QvjHQNmG",
        "outputId": "9d7b28d1-8500-45b8-aab9-691f79618649"
      },
      "outputs": [
        {
          "name": "stdout",
          "output_type": "stream",
          "text": [
            "\n",
            "Verifying identity filter result...\n",
            "Result matches input: True\n"
          ]
        }
      ],
      "source": [
        "# For identity filter, output should match input\n",
        "print(\"\\nVerifying identity filter result...\")\n",
        "is_close = np.allclose(filtered_image, epi_img_data_final, rtol=1e-5, atol=1e-5)\n",
        "print(f\"Result matches input: {is_close}\")\n",
        "\n",
        "if not is_close:\n",
        "    max_diff = np.max(np.abs(filtered_image - epi_img_data_final))\n",
        "    print(f\"Maximum difference: {max_diff}\")"
      ]
    },
    {
      "cell_type": "code",
      "execution_count": 27,
      "metadata": {
        "colab": {
          "base_uri": "https://localhost:8080/"
        },
        "id": "NhrCZyLLQNmG",
        "outputId": "df48e041-cb55-4f1d-d020-7467d32c2099"
      },
      "outputs": [
        {
          "name": "stdout",
          "output_type": "stream",
          "text": [
            "\n",
            "Testing with XY edge detection filter (filter2)...\n",
            "Starting parallel filtering with 10 processes...\n",
            "Processing 33 Z layers in parallel...\n",
            "Parallel execution time: 0.1635 seconds\n"
          ]
        }
      ],
      "source": [
        "if __name__ == '__main__':\n",
        "    # Test with edge detection filter (filter2 - XY edges)\n",
        "    print(\"\\nTesting with XY edge detection filter (filter2)...\")\n",
        "    start_time = time.time()\n",
        "    filtered_image_edges_xy = parallel_3d_filter(epi_img_data_final, filter2)\n",
        "    end_time = time.time()\n",
        "\n",
        "    print(f\"Parallel execution time: {end_time - start_time:.4f} seconds\")"
      ]
    },
    {
      "cell_type": "code",
      "execution_count": 28,
      "metadata": {
        "colab": {
          "base_uri": "https://localhost:8080/"
        },
        "id": "F1I5pUp4QNmG",
        "outputId": "49d38046-a8ef-4eee-bb36-8e05953142f5"
      },
      "outputs": [
        {
          "name": "stdout",
          "output_type": "stream",
          "text": [
            "\n",
            "Testing with XZ edge detection filter (filter3)...\n",
            "Starting parallel filtering with 10 processes...\n",
            "Processing 33 Z layers in parallel...\n",
            "Parallel execution time: 0.1727 seconds\n"
          ]
        }
      ],
      "source": [
        "if __name__ == '__main__':\n",
        "    # Test with edge detection filter (filter3 - XZ edges)\n",
        "    print(\"\\nTesting with XZ edge detection filter (filter3)...\")\n",
        "    start_time = time.time()\n",
        "    filtered_image_edges_xz = parallel_3d_filter(epi_img_data_final, filter3)\n",
        "    end_time = time.time()\n",
        "\n",
        "    print(f\"Parallel execution time: {end_time - start_time:.4f} seconds\")"
      ]
    },
    {
      "cell_type": "code",
      "execution_count": 29,
      "metadata": {
        "colab": {
          "base_uri": "https://localhost:8080/"
        },
        "id": "95czj4XZQNmG",
        "outputId": "7b9a6f78-8fda-4818-c18d-21c8c5a90061"
      },
      "outputs": [
        {
          "name": "stdout",
          "output_type": "stream",
          "text": [
            "\n",
            "=== Performance Comparison ===\n",
            "Running sequential version for comparison...\n",
            "Using subset of shape (10, 61, 53) for sequential test\n",
            "\n",
            "Sequential execution time: 0.2286 seconds\n",
            "Estimated full sequential time: 0.7544 seconds\n",
            "\n",
            "Speedup: 3.91x\n",
            "Number of CPU cores used: 10\n"
          ]
        }
      ],
      "source": [
        "# Compare with sequential version (on a small subset if image is large)\n",
        "print(\"\\n=== Performance Comparison ===\")\n",
        "print(\"Running sequential version for comparison...\")\n",
        "\n",
        "# Use a smaller subset for sequential timing if image is large\n",
        "if epi_img_data_final.shape[0] > 20:\n",
        "    test_subset = epi_img_data_final[:10, :, :]  # Just first 10 slices\n",
        "    print(f\"Using subset of shape {test_subset.shape} for sequential test\")\n",
        "else:\n",
        "    test_subset = epi_img_data_final\n",
        "    print(f\"Using full image of shape {test_subset.shape}\")\n",
        "\n",
        "start_time = time.time()\n",
        "filtered_sequential = sequential_3d_filter(test_subset, filter1)\n",
        "end_time = time.time()\n",
        "sequential_time = end_time - start_time\n",
        "\n",
        "print(f\"\\nSequential execution time: {sequential_time:.4f} seconds\")\n",
        "\n",
        "# Estimate speedup (extrapolate if using subset)\n",
        "if test_subset.shape[0] < epi_img_data_final.shape[0]:\n",
        "    scale_factor = epi_img_data_final.shape[0] / test_subset.shape[0]\n",
        "    estimated_full_sequential = sequential_time * scale_factor\n",
        "    print(f\"Estimated full sequential time: {estimated_full_sequential:.4f} seconds\")\n",
        "    speedup = estimated_full_sequential / parallel_time\n",
        "else:\n",
        "    speedup = sequential_time / parallel_time\n",
        "\n",
        "print(f\"\\nSpeedup: {speedup:.2f}x\")\n",
        "print(f\"Number of CPU cores used: {mp.cpu_count()}\")"
      ]
    },
    {
      "cell_type": "code",
      "execution_count": 30,
      "metadata": {
        "colab": {
          "base_uri": "https://localhost:8080/"
        },
        "id": "xidXiMD1QNmG",
        "outputId": "3c4bc880-8116-4f16-d76b-fc34da51b9d1"
      },
      "outputs": [
        {
          "name": "stdout",
          "output_type": "stream",
          "text": [
            "\n",
            "=== Timing Statistics (5 runs) ===\n",
            "Starting parallel filtering with 10 processes...\n",
            "Processing 33 Z layers in parallel...\n",
            "Run 1: 0.1679 seconds\n",
            "Starting parallel filtering with 10 processes...\n",
            "Processing 33 Z layers in parallel...\n",
            "Run 2: 0.1806 seconds\n",
            "Starting parallel filtering with 10 processes...\n",
            "Processing 33 Z layers in parallel...\n",
            "Run 3: 0.1696 seconds\n",
            "Starting parallel filtering with 10 processes...\n",
            "Processing 33 Z layers in parallel...\n",
            "Run 4: 0.1644 seconds\n",
            "Starting parallel filtering with 10 processes...\n",
            "Processing 33 Z layers in parallel...\n",
            "Run 5: 0.2314 seconds\n"
          ]
        }
      ],
      "source": [
        "if __name__ == '__main__':\n",
        "    # Run multiple times to get statistics\n",
        "    print(\"\\n=== Timing Statistics (5 runs) ===\")\n",
        "    times = []\n",
        "    for i in range(5):\n",
        "        start = time.time()\n",
        "        _ = parallel_3d_filter(epi_img_data_final, filter1)\n",
        "        end = time.time()\n",
        "        times.append(end - start)\n",
        "        print(f\"Run {i+1}: {times[-1]:.4f} seconds\")\n",
        "\n",
        "    # Create a simple statistics object\n",
        "    class Statistics:\n",
        "        def __init__(self, times):\n",
        "            self.best = min(times)\n",
        "            self.worst = max(times)\n",
        "            self.average = np.mean(times)\n",
        "            self.stdev = np.std(times)\n",
        "\n",
        "    statistics = Statistics(times)"
      ]
    },
    {
      "cell_type": "markdown",
      "metadata": {
        "id": "4whAEkzPhvOC"
      },
      "source": [
        "Allocates the target image memory."
      ]
    },
    {
      "cell_type": "code",
      "execution_count": 31,
      "metadata": {
        "id": "OGfbeKn7QNmG"
      },
      "outputs": [],
      "source": [
        "# filtered_image_shm = Array('f', int(np.prod(image_shape)))"
      ]
    },
    {
      "cell_type": "markdown",
      "metadata": {
        "id": "704q-BhaQNmG"
      },
      "source": [
        "### The next lines is only valid for the filter mask filter1, in order to check if the image was readed correct"
      ]
    },
    {
      "cell_type": "code",
      "execution_count": 32,
      "metadata": {
        "colab": {
          "base_uri": "https://localhost:8080/"
        },
        "id": "vCeVC6m4QNmG",
        "outputId": "678527c8-10c7-442f-dce9-02bbab2f364d"
      },
      "outputs": [
        {
          "data": {
            "text/plain": [
              "True"
            ]
          },
          "execution_count": 32,
          "metadata": {},
          "output_type": "execute_result"
        }
      ],
      "source": [
        "np.allclose(filtered_image,epi_img_data_final)"
      ]
    },
    {
      "cell_type": "markdown",
      "metadata": {
        "id": "9dSp-C5PQNmG"
      },
      "source": [
        "*NOTE* The follow code fetch from the stack the exectution statistics produced by the magic metacommand %%timeit and stores it in a python variable."
      ]
    },
    {
      "cell_type": "markdown",
      "metadata": {
        "id": "uKz2XKjBkvgR"
      },
      "source": [
        "# Show results\n"
      ]
    },
    {
      "cell_type": "code",
      "execution_count": 33,
      "metadata": {
        "colab": {
          "base_uri": "https://localhost:8080/",
          "height": 396
        },
        "id": "en0HMjtnk8uS",
        "outputId": "e5ad4076-7e77-4a16-a234-87b1606f0338"
      },
      "outputs": [
        {
          "data": {
            "text/plain": [
              "Text(0.5, 0.98, 'Center slices for EPI image')"
            ]
          },
          "execution_count": 33,
          "metadata": {},
          "output_type": "execute_result"
        }
      ],
      "source": [
        "slice_0 = filtered_image[26, :, :]\n",
        "slice_1 = filtered_image[:, 30, :]\n",
        "slice_2 = filtered_image[:, :, 16]\n",
        "\n",
        "show_slices([slice_0, slice_1, slice_2])\n",
        "plt.suptitle(\"Center slices for EPI image\")"
      ]
    },
    {
      "cell_type": "code",
      "execution_count": 34,
      "metadata": {
        "colab": {
          "base_uri": "https://localhost:8080/",
          "height": 395
        },
        "id": "_vgAv7o0QNmG",
        "outputId": "abcf1ade-8c36-49fa-fcdf-98b0803b66f3"
      },
      "outputs": [
        {
          "data": {
            "text/plain": [
              "Text(0.5, 0.98, 'Center slices for EPI image')"
            ]
          },
          "execution_count": 34,
          "metadata": {},
          "output_type": "execute_result"
        }
      ],
      "source": [
        "import matplotlib.pyplot as plt\n",
        "\n",
        "def show_slices(slices):\n",
        "\n",
        "   \"\"\" Function to display row of image slices \"\"\"\n",
        "\n",
        "   fig, axes = plt.subplots(1, len(slices))\n",
        "\n",
        "   for i, slice in enumerate(slices):\n",
        "\n",
        "       axes[i].imshow(slice, cmap=\"gray\", origin=\"lower\")\n",
        "\n",
        "\n",
        "slice_0 = epi_img_data_final[26, :, :]\n",
        "slice_1 = epi_img_data_final[:, 30, :]\n",
        "slice_2 = epi_img_data_final[:, :, 16]\n",
        "\n",
        "show_slices([slice_0, slice_1, slice_2])\n",
        "plt.suptitle(\"Center slices for EPI image\")"
      ]
    },
    {
      "cell_type": "code",
      "execution_count": 35,
      "metadata": {
        "colab": {
          "base_uri": "https://localhost:8080/"
        },
        "id": "6DbfqushTXBR",
        "outputId": "f5788fdb-af21-4d38-8ffe-de6a9c088574"
      },
      "outputs": [
        {
          "name": "stdout",
          "output_type": "stream",
          "text": [
            "Best execution time: 0.16438794136047363\n",
            "Worst execution time: 0.23135113716125488\n",
            "Mean execution time: 0.18277459144592284 (0.024887378062311352 std dev)\n"
          ]
        }
      ],
      "source": [
        "print(\"Best execution time: {}\".format(statistics.best))\n",
        "print(\"Worst execution time: {}\".format(statistics.worst))\n",
        "print(\"Mean execution time: {mean} ({stdev} std dev)\".format(mean=statistics.average,stdev=statistics.stdev))"
      ]
    },
    {
      "cell_type": "markdown",
      "metadata": {
        "id": "hHntmzMMQNmH"
      },
      "source": [
        "# CONCLUSIONS"
      ]
    },
    {
      "cell_type": "code",
      "execution_count": null,
      "metadata": {
        "id": "IzTjQkMIQNmH"
      },
      "outputs": [],
      "source": []
    },
    {
      "cell_type": "code",
      "execution_count": null,
      "metadata": {
        "id": "UIIM8KWpQNmH"
      },
      "outputs": [],
      "source": []
    },
    {
      "cell_type": "code",
      "execution_count": null,
      "metadata": {
        "id": "Mr4Y-YacQNmH"
      },
      "outputs": [],
      "source": []
    },
    {
      "cell_type": "code",
      "execution_count": null,
      "metadata": {
        "id": "z-8foxxQQNmH"
      },
      "outputs": [],
      "source": []
    },
    {
      "cell_type": "code",
      "execution_count": null,
      "metadata": {
        "id": "OiZYrN3cQNmH"
      },
      "outputs": [],
      "source": []
    },
    {
      "cell_type": "code",
      "execution_count": null,
      "metadata": {
        "id": "pP1fKWHFQNmH"
      },
      "outputs": [],
      "source": []
    },
    {
      "cell_type": "code",
      "execution_count": null,
      "metadata": {
        "id": "jyyTR04MQNmH"
      },
      "outputs": [],
      "source": []
    },
    {
      "cell_type": "code",
      "execution_count": null,
      "metadata": {
        "id": "XAAfYMsfQNmH"
      },
      "outputs": [],
      "source": []
    },
    {
      "cell_type": "code",
      "execution_count": null,
      "metadata": {
        "id": "3i5genztQNmH"
      },
      "outputs": [],
      "source": []
    },
    {
      "cell_type": "code",
      "execution_count": null,
      "metadata": {
        "id": "aUUdCXfTQNmH"
      },
      "outputs": [],
      "source": []
    },
    {
      "cell_type": "code",
      "execution_count": null,
      "metadata": {
        "id": "kyFzIVI5QNmH"
      },
      "outputs": [],
      "source": []
    },
    {
      "cell_type": "code",
      "execution_count": null,
      "metadata": {
        "id": "PHRLi8f6QNmH"
      },
      "outputs": [],
      "source": []
    },
    {
      "cell_type": "code",
      "execution_count": null,
      "metadata": {
        "id": "LkSfhH7UQNmH"
      },
      "outputs": [],
      "source": []
    },
    {
      "cell_type": "code",
      "execution_count": null,
      "metadata": {
        "id": "6iEy9u8XQNmH"
      },
      "outputs": [],
      "source": []
    },
    {
      "cell_type": "code",
      "execution_count": null,
      "metadata": {
        "id": "FyTPQYUrQNmH"
      },
      "outputs": [],
      "source": []
    },
    {
      "cell_type": "code",
      "execution_count": null,
      "metadata": {
        "id": "B9_8mwTlQNmH"
      },
      "outputs": [],
      "source": []
    },
    {
      "cell_type": "code",
      "execution_count": null,
      "metadata": {
        "id": "syoMisFgQNmH"
      },
      "outputs": [],
      "source": []
    },
    {
      "cell_type": "code",
      "execution_count": null,
      "metadata": {
        "id": "8pbxFXK8QNmH"
      },
      "outputs": [],
      "source": []
    },
    {
      "cell_type": "code",
      "execution_count": null,
      "metadata": {
        "id": "2GzSQu9EQNmH"
      },
      "outputs": [],
      "source": []
    },
    {
      "cell_type": "code",
      "execution_count": null,
      "metadata": {
        "id": "H7MYvNWwQNmH"
      },
      "outputs": [],
      "source": []
    },
    {
      "cell_type": "code",
      "execution_count": null,
      "metadata": {
        "id": "fyxc3HJtQNmH"
      },
      "outputs": [],
      "source": []
    },
    {
      "cell_type": "code",
      "execution_count": null,
      "metadata": {
        "id": "9-wIl0bbQNmH"
      },
      "outputs": [],
      "source": []
    },
    {
      "cell_type": "code",
      "execution_count": null,
      "metadata": {
        "id": "WG-7ProCQNmH"
      },
      "outputs": [],
      "source": []
    },
    {
      "cell_type": "code",
      "execution_count": null,
      "metadata": {
        "colab": {
          "base_uri": "https://localhost:8080/",
          "height": 108
        },
        "id": "2g8JIK3wQNmH",
        "outputId": "dd7df324-c566-4e64-c8f5-d87a47c132ec"
      },
      "outputs": [],
      "source": []
    }
  ],
  "metadata": {
    "accelerator": "GPU",
    "colab": {
      "provenance": []
    },
    "kernelspec": {
      "display_name": "base",
      "language": "python",
      "name": "python3"
    },
    "language_info": {
      "codemirror_mode": {
        "name": "ipython",
        "version": 3
      },
      "file_extension": ".py",
      "mimetype": "text/x-python",
      "name": "python",
      "nbconvert_exporter": "python",
      "pygments_lexer": "ipython3",
      "version": "3.13.7"
    }
  },
  "nbformat": 4,
  "nbformat_minor": 0
}
